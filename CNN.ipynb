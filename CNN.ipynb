{
 "cells": [
  {
   "cell_type": "markdown",
   "metadata": {},
   "source": [
    "### Eliminating warning in jupyter notebook"
   ]
  },
  {
   "cell_type": "code",
   "execution_count": null,
   "metadata": {},
   "outputs": [],
   "source": [
    "def warn(*args, **kwargs):\n",
    "    pass\n",
    "import warnings\n",
    "warnings.warn = warn"
   ]
  },
  {
   "cell_type": "markdown",
   "metadata": {},
   "source": [
    "### Importing the Keras libraries and packages"
   ]
  },
  {
   "cell_type": "code",
   "execution_count": null,
   "metadata": {},
   "outputs": [],
   "source": [
    "import os\n",
    "from keras.models import Sequential # Initialise our neural network model as a sequential network\n",
    "from keras.layers import Conv2D # Convolution operation\n",
    "from keras.layers import MaxPooling2D # Maxpooling function\n",
    "from keras.layers import Flatten # Converting 2D arrays into a 1D linear vector.\n",
    "from keras.layers import Dense # Perform the full connection of the neural network\n",
    "from keras.preprocessing.image import ImageDataGenerator\n",
    "from IPython.display import display\n",
    "from PIL import Image\n",
    "import cv2\n",
    "import numpy as np\n",
    "from sklearn.metrics import accuracy_score\n",
    "from skimage import io, transform"
   ]
  },
  {
   "cell_type": "markdown",
   "metadata": {},
   "source": [
    "### Convolutional Neural Network — Deep Learning in python"
   ]
  },
  {
   "cell_type": "code",
   "execution_count": null,
   "metadata": {},
   "outputs": [],
   "source": [
    "def cnn_classifier():\n",
    "    cnn = Sequential()\n",
    "    cnn.add(Conv2D(8, (3,3), input_shape = (50, 50, 3), padding='same', activation = 'relu'))\n",
    "    cnn.add(MaxPooling2D(pool_size=(2, 2), padding='same'))\n",
    "    cnn.add(Conv2D(16, (3,3), input_shape = (50, 50, 3), activation = 'relu'))\n",
    "    cnn.add(MaxPooling2D(pool_size=(2, 2), padding='same'))\n",
    "    cnn.add(Flatten())\n",
    "    cnn.add(Dense(128, activation = 'relu'))\n",
    "    cnn.add(Dense(2, activation = 'softmax'))\n",
    "    cnn.compile(optimizer = 'adam', loss = 'binary_crossentropy', metrics = ['accuracy'])\n",
    "    return cnn\n",
    "\n",
    "def reshaped_image(image):\n",
    "    return transform.resize(image,(50,50,3)) # (cols (width), rows (height)) and don't use np.resize()\n",
    "\n",
    "def load_images_from_folder():\n",
    "    Images = os.listdir(\"./data/\")\n",
    "    train_images = []\n",
    "    train_labels = []\n",
    "    for image in Images:\n",
    "            if image[-4:] == 'jpeg':\n",
    "                path = os.path.join(\"./data/\", image)\n",
    "                img = cv2.imread(path)\n",
    "                train_images.append(reshaped_image(img))\n",
    "                label_file = image[:-5] + '.txt'\n",
    "                with open(\"./data\"+\"/\"+label_file) as f:\n",
    "                    content = f.readlines()\n",
    "                    label = int(float(content[0]))\n",
    "                    l = [0, 0]\n",
    "                    l[label] = 1 # 1=car and 0=not car\n",
    "                    train_labels.append(l)\n",
    "    return np.array(train_images), np.array(train_labels)\n",
    "        \n",
    "def train_test_split(train_data, train_labels, fraction):\n",
    "    index = int(len(train_data)*fraction)\n",
    "    return train_data[:index], train_labels[:index], train_data[index:], train_labels[index:]\n",
    "\n",
    "train_data, train_labels = load_images_from_folder()\n",
    "fraction = 0.8\n",
    "train_data, train_labels, test_data, test_labels = train_test_split(train_data, train_labels, fraction)\n",
    "print (\"Train data size: \", len(train_data))\n",
    "print (\"Test data size: \", len(test_data))\n",
    "\n",
    "cnn = cnn_classifier()\n",
    "\n",
    "print (\"Train data shape: \", train_data.shape)\n",
    "print (\"Test data shape: \", train_labels.shape)\n",
    "\n",
    "idx = np.random.permutation(train_data.shape[0])\n",
    "cnn.fit(train_data[idx], train_labels[idx], epochs = 10)\n",
    "predicted_test_labels = np.argmax(cnn.predict(test_data), axis=1)\n",
    "test_labels = np.argmax(test_labels, axis=1)\n",
    "\n",
    "print (\"Actual test labels:\", test_labels)\n",
    "print (\"Predicted test labels:\", predicted_test_labels)\n",
    "\n",
    "print (\"Accuracy score:\", accuracy_score(test_labels, predicted_test_labels))\n"
   ]
  }
 ],
 "metadata": {
  "kernelspec": {
   "display_name": "Python 3",
   "language": "python",
   "name": "python3"
  },
  "language_info": {
   "codemirror_mode": {
    "name": "ipython",
    "version": 3
   },
   "file_extension": ".py",
   "mimetype": "text/x-python",
   "name": "python",
   "nbconvert_exporter": "python",
   "pygments_lexer": "ipython3",
   "version": "3.6.4"
  }
 },
 "nbformat": 4,
 "nbformat_minor": 2
}
